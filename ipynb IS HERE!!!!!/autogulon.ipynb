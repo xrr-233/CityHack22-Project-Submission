{
 "cells": [
  {
   "cell_type": "code",
   "execution_count": 9,
   "metadata": {},
   "outputs": [],
   "source": [
    "from autogluon.tabular import TabularDataset, TabularPredictor\n",
    "import numpy as np\n",
    "import pandas as pd\n",
    "from sklearn.metrics import r2_score\n",
    "from sklearn.model_selection import train_test_split\n",
    "from sklearn.metrics import mean_squared_error\n",
    "from sklearn.metrics import confusion_matrix,accuracy_score,recall_score,f1_score,classification_report"
   ]
  },
  {
   "cell_type": "code",
   "execution_count": 2,
   "metadata": {},
   "outputs": [
    {
     "name": "stdout",
     "output_type": "stream",
     "text": [
      "(8387, 6)\n",
      "(33545, 6)\n"
     ]
    }
   ],
   "source": [
    "Data=TabularDataset('CH22_Demand_XY_Train.csv')\n",
    "\n",
    "train_data,val_data=train_test_split(Data,test_size=0.2,random_state=0)\n",
    "print(val_data.shape)\n",
    "print(train_data.shape)"
   ]
  },
  {
   "cell_type": "code",
   "execution_count": 3,
   "metadata": {
    "scrolled": true
   },
   "outputs": [
    {
     "name": "stderr",
     "output_type": "stream",
     "text": [
      "No path specified. Models will be saved in: \"AutogluonModels/ag-20220130_000934/\"\n",
      "Beginning AutoGluon training ... Time limit = 1500s\n",
      "AutoGluon will save models to \"AutogluonModels/ag-20220130_000934/\"\n",
      "AutoGluon Version:  0.3.1\n",
      "Train Data Rows:    33545\n",
      "Train Data Columns: 5\n",
      "Preprocessing data ...\n",
      "AutoGluon infers your prediction problem is: 'regression' (because dtype of label-column == float and many unique label-values observed).\n",
      "\tLabel info (max, min, mean, stddev): (829691.71704, 178443.8354, 503880.7449, 122155.37906)\n",
      "\tIf 'regression' is not the correct problem_type, please manually specify the problem_type argument in fit() (You may specify problem_type as one of: ['binary', 'multiclass', 'regression'])\n",
      "Using Feature Generators to preprocess the data ...\n",
      "Fitting AutoMLPipelineFeatureGenerator...\n",
      "\tAvailable Memory:                    5957.83 MB\n",
      "\tTrain Data (Original)  Memory Usage: 3.62 MB (0.1% of available memory)\n",
      "\tInferring data type of each feature based on column values. Set feature_metadata_in to manually specify special dtypes of the features.\n",
      "\tStage 1 Generators:\n",
      "\t\tFitting AsTypeFeatureGenerator...\n",
      "\tStage 2 Generators:\n",
      "\t\tFitting FillNaFeatureGenerator...\n",
      "\tStage 3 Generators:\n",
      "\t\tFitting IdentityFeatureGenerator...\n",
      "\t\tFitting DatetimeFeatureGenerator...\n",
      "\tStage 4 Generators:\n",
      "\t\tFitting DropUniqueFeatureGenerator...\n",
      "\tTypes of features in original data (raw dtype, special dtypes):\n",
      "\t\t('float', [])                      : 4 | ['X1', 'X2', 'X3', 'X4']\n",
      "\t\t('object', ['datetime_as_object']) : 1 | ['DateTime']\n",
      "\tTypes of features in processed data (raw dtype, special dtypes):\n",
      "\t\t('float', [])                : 4 | ['X1', 'X2', 'X3', 'X4']\n",
      "\t\t('int', ['datetime_as_int']) : 1 | ['DateTime']\n",
      "\t0.1s = Fit runtime\n",
      "\t5 features in original data used to generate 5 features in processed data.\n",
      "\tTrain Data (Processed) Memory Usage: 1.34 MB (0.0% of available memory)\n",
      "Data preprocessing and feature engineering runtime = 0.17s ...\n",
      "AutoGluon will gauge predictive performance using evaluation metric: 'root_mean_squared_error'\n",
      "\tTo change this, specify the eval_metric argument of fit()\n",
      "AutoGluon will fit 3 stack levels (L1 to L3) ...\n",
      "Fitting 11 L1 models ...\n",
      "Fitting model: KNeighborsUnif_BAG_L1 ... Training model for up to 666.42s of the 1499.82s of remaining time.\n",
      "\t-100439.9108\t = Validation score   (root_mean_squared_error)\n",
      "\t0.05s\t = Training   runtime\n",
      "\t0.08s\t = Validation runtime\n",
      "Fitting model: KNeighborsDist_BAG_L1 ... Training model for up to 666.26s of the 1499.66s of remaining time.\n",
      "\t-100125.224\t = Validation score   (root_mean_squared_error)\n",
      "\t0.04s\t = Training   runtime\n",
      "\t0.08s\t = Validation runtime\n",
      "Fitting model: LightGBMXT_BAG_L1 ... Training model for up to 666.11s of the 1499.51s of remaining time.\n",
      "/Users/huangjianming/opt/anaconda3/lib/python3.8/site-packages/lightgbm/engine.py:239: UserWarning: 'verbose_eval' argument is deprecated and will be removed in a future release of LightGBM. Pass 'log_evaluation()' callback via 'callbacks' argument instead.\n",
      "  _log_warning(\"'verbose_eval' argument is deprecated and will be removed in a future release of LightGBM. \"\n"
     ]
    },
    {
     "name": "stdout",
     "output_type": "stream",
     "text": [
      "[1000]\ttrain_set's rmse: 77758.2\tvalid_set's rmse: 80653.2\n",
      "[2000]\ttrain_set's rmse: 71004.2\tvalid_set's rmse: 75944.8\n",
      "[3000]\ttrain_set's rmse: 66669.1\tvalid_set's rmse: 73197.2\n",
      "[4000]\ttrain_set's rmse: 63334\tvalid_set's rmse: 71118.2\n",
      "[5000]\ttrain_set's rmse: 60601.1\tvalid_set's rmse: 69588.6\n",
      "[6000]\ttrain_set's rmse: 58418.3\tvalid_set's rmse: 68374\n",
      "[7000]\ttrain_set's rmse: 56503.8\tvalid_set's rmse: 67285.7\n",
      "[8000]\ttrain_set's rmse: 54790.2\tvalid_set's rmse: 66346.4\n",
      "[9000]\ttrain_set's rmse: 53276.1\tvalid_set's rmse: 65578.5\n",
      "[10000]\ttrain_set's rmse: 51882.2\tvalid_set's rmse: 64881\n"
     ]
    },
    {
     "name": "stderr",
     "output_type": "stream",
     "text": [
      "/Users/huangjianming/opt/anaconda3/lib/python3.8/site-packages/lightgbm/engine.py:239: UserWarning: 'verbose_eval' argument is deprecated and will be removed in a future release of LightGBM. Pass 'log_evaluation()' callback via 'callbacks' argument instead.\n",
      "  _log_warning(\"'verbose_eval' argument is deprecated and will be removed in a future release of LightGBM. \"\n"
     ]
    },
    {
     "name": "stdout",
     "output_type": "stream",
     "text": [
      "[1000]\ttrain_set's rmse: 77468.8\tvalid_set's rmse: 82253.2\n",
      "[2000]\ttrain_set's rmse: 71059.3\tvalid_set's rmse: 77743\n",
      "[3000]\ttrain_set's rmse: 66739.7\tvalid_set's rmse: 74843.1\n",
      "[4000]\ttrain_set's rmse: 63439.4\tvalid_set's rmse: 72703.4\n",
      "[5000]\ttrain_set's rmse: 60817.4\tvalid_set's rmse: 71087.9\n",
      "[6000]\ttrain_set's rmse: 58604.5\tvalid_set's rmse: 69694.3\n",
      "[7000]\ttrain_set's rmse: 56724.8\tvalid_set's rmse: 68622.9\n",
      "[8000]\ttrain_set's rmse: 55029.5\tvalid_set's rmse: 67673.6\n",
      "[9000]\ttrain_set's rmse: 53517.8\tvalid_set's rmse: 66851.2\n",
      "[10000]\ttrain_set's rmse: 52117.9\tvalid_set's rmse: 66094\n"
     ]
    },
    {
     "name": "stderr",
     "output_type": "stream",
     "text": [
      "/Users/huangjianming/opt/anaconda3/lib/python3.8/site-packages/lightgbm/engine.py:239: UserWarning: 'verbose_eval' argument is deprecated and will be removed in a future release of LightGBM. Pass 'log_evaluation()' callback via 'callbacks' argument instead.\n",
      "  _log_warning(\"'verbose_eval' argument is deprecated and will be removed in a future release of LightGBM. \"\n"
     ]
    },
    {
     "name": "stdout",
     "output_type": "stream",
     "text": [
      "[1000]\ttrain_set's rmse: 77808.3\tvalid_set's rmse: 81116.3\n",
      "[2000]\ttrain_set's rmse: 71317.2\tvalid_set's rmse: 76222\n",
      "[3000]\ttrain_set's rmse: 66884.9\tvalid_set's rmse: 73179.9\n",
      "[4000]\ttrain_set's rmse: 63528.9\tvalid_set's rmse: 70952.7\n",
      "[5000]\ttrain_set's rmse: 60945.2\tvalid_set's rmse: 69380.9\n",
      "[6000]\ttrain_set's rmse: 58726.2\tvalid_set's rmse: 68057.9\n",
      "[7000]\ttrain_set's rmse: 56726.7\tvalid_set's rmse: 66871.2\n",
      "[8000]\ttrain_set's rmse: 54991.6\tvalid_set's rmse: 65888.3\n",
      "[9000]\ttrain_set's rmse: 53412.4\tvalid_set's rmse: 65025.6\n",
      "[10000]\ttrain_set's rmse: 52003\tvalid_set's rmse: 64217.1\n"
     ]
    },
    {
     "name": "stderr",
     "output_type": "stream",
     "text": [
      "\t-65068.619\t = Validation score   (root_mean_squared_error)\n",
      "\t31.5s\t = Training   runtime\n",
      "\t6.38s\t = Validation runtime\n",
      "Fitting model: LightGBM_BAG_L1 ... Training model for up to 626.77s of the 1460.17s of remaining time.\n",
      "/Users/huangjianming/opt/anaconda3/lib/python3.8/site-packages/lightgbm/engine.py:239: UserWarning: 'verbose_eval' argument is deprecated and will be removed in a future release of LightGBM. Pass 'log_evaluation()' callback via 'callbacks' argument instead.\n",
      "  _log_warning(\"'verbose_eval' argument is deprecated and will be removed in a future release of LightGBM. \"\n"
     ]
    },
    {
     "name": "stdout",
     "output_type": "stream",
     "text": [
      "[1000]\ttrain_set's rmse: 44137\tvalid_set's rmse: 57827.7\n",
      "[2000]\ttrain_set's rmse: 34002.4\tvalid_set's rmse: 54355.5\n",
      "[3000]\ttrain_set's rmse: 28294.2\tvalid_set's rmse: 53292.2\n",
      "[4000]\ttrain_set's rmse: 24336.4\tvalid_set's rmse: 52661.5\n",
      "[5000]\ttrain_set's rmse: 21341.3\tvalid_set's rmse: 52293.8\n",
      "[6000]\ttrain_set's rmse: 19056.3\tvalid_set's rmse: 52159.1\n",
      "[7000]\ttrain_set's rmse: 17105.8\tvalid_set's rmse: 52071.7\n",
      "[8000]\ttrain_set's rmse: 15343.6\tvalid_set's rmse: 51960.5\n",
      "[9000]\ttrain_set's rmse: 13952.3\tvalid_set's rmse: 51895.8\n",
      "[10000]\ttrain_set's rmse: 12705.2\tvalid_set's rmse: 51826.9\n"
     ]
    },
    {
     "name": "stderr",
     "output_type": "stream",
     "text": [
      "/Users/huangjianming/opt/anaconda3/lib/python3.8/site-packages/lightgbm/engine.py:239: UserWarning: 'verbose_eval' argument is deprecated and will be removed in a future release of LightGBM. Pass 'log_evaluation()' callback via 'callbacks' argument instead.\n",
      "  _log_warning(\"'verbose_eval' argument is deprecated and will be removed in a future release of LightGBM. \"\n"
     ]
    },
    {
     "name": "stdout",
     "output_type": "stream",
     "text": [
      "[1000]\ttrain_set's rmse: 43813.3\tvalid_set's rmse: 58601.5\n",
      "[2000]\ttrain_set's rmse: 33914.1\tvalid_set's rmse: 55027.3\n",
      "[3000]\ttrain_set's rmse: 28203\tvalid_set's rmse: 53504.7\n",
      "[4000]\ttrain_set's rmse: 24186.8\tvalid_set's rmse: 52738.2\n",
      "[5000]\ttrain_set's rmse: 21003.8\tvalid_set's rmse: 52244.8\n",
      "[6000]\ttrain_set's rmse: 18603.5\tvalid_set's rmse: 51960.1\n",
      "[7000]\ttrain_set's rmse: 16459.2\tvalid_set's rmse: 51812.7\n",
      "[8000]\ttrain_set's rmse: 14888.7\tvalid_set's rmse: 51719.7\n",
      "[9000]\ttrain_set's rmse: 13485.8\tvalid_set's rmse: 51656.2\n",
      "[10000]\ttrain_set's rmse: 12345.3\tvalid_set's rmse: 51652.7\n"
     ]
    },
    {
     "name": "stderr",
     "output_type": "stream",
     "text": [
      "/Users/huangjianming/opt/anaconda3/lib/python3.8/site-packages/lightgbm/engine.py:239: UserWarning: 'verbose_eval' argument is deprecated and will be removed in a future release of LightGBM. Pass 'log_evaluation()' callback via 'callbacks' argument instead.\n",
      "  _log_warning(\"'verbose_eval' argument is deprecated and will be removed in a future release of LightGBM. \"\n"
     ]
    },
    {
     "name": "stdout",
     "output_type": "stream",
     "text": [
      "[1000]\ttrain_set's rmse: 43554.8\tvalid_set's rmse: 56888\n",
      "[2000]\ttrain_set's rmse: 33596.6\tvalid_set's rmse: 52790.4\n",
      "[3000]\ttrain_set's rmse: 27743\tvalid_set's rmse: 51362.2\n",
      "[4000]\ttrain_set's rmse: 23741.8\tvalid_set's rmse: 50577.6\n",
      "[5000]\ttrain_set's rmse: 20672.2\tvalid_set's rmse: 50082\n",
      "[6000]\ttrain_set's rmse: 18302.3\tvalid_set's rmse: 49885.1\n",
      "[7000]\ttrain_set's rmse: 16246.1\tvalid_set's rmse: 49781.4\n",
      "[8000]\ttrain_set's rmse: 14579.7\tvalid_set's rmse: 49658.9\n",
      "[9000]\ttrain_set's rmse: 13157.1\tvalid_set's rmse: 49566.4\n",
      "[10000]\ttrain_set's rmse: 12017.3\tvalid_set's rmse: 49534.7\n"
     ]
    },
    {
     "name": "stderr",
     "output_type": "stream",
     "text": [
      "\t-51014.7844\t = Validation score   (root_mean_squared_error)\n",
      "\t32.08s\t = Training   runtime\n",
      "\t5.59s\t = Validation runtime\n",
      "Fitting model: RandomForestMSE_BAG_L1 ... Training model for up to 587.72s of the 1421.12s of remaining time.\n",
      "\t-37632.5236\t = Validation score   (root_mean_squared_error)\n",
      "\t5.09s\t = Training   runtime\n",
      "\t1.41s\t = Validation runtime\n",
      "Fitting model: CatBoost_BAG_L1 ... Training model for up to 580.05s of the 1413.45s of remaining time.\n",
      "\t-51622.5393\t = Validation score   (root_mean_squared_error)\n",
      "\t68.68s\t = Training   runtime\n",
      "\t0.06s\t = Validation runtime\n",
      "Fitting model: ExtraTreesMSE_BAG_L1 ... Training model for up to 511.13s of the 1344.53s of remaining time.\n",
      "\t-40404.769\t = Validation score   (root_mean_squared_error)\n",
      "\t1.61s\t = Training   runtime\n",
      "\t1.25s\t = Validation runtime\n",
      "Fitting model: NeuralNetFastAI_BAG_L1 ... Training model for up to 507.34s of the 1340.74s of remaining time.\n",
      "\t-89652.1739\t = Validation score   (root_mean_squared_error)\n",
      "\t79.33s\t = Training   runtime\n",
      "\t0.42s\t = Validation runtime\n",
      "Fitting model: XGBoost_BAG_L1 ... Training model for up to 427.49s of the 1260.89s of remaining time.\n",
      "\tWarning: Exception caused XGBoost_BAG_L1 to fail during training... Skipping this model.\n",
      "\t\tdlsym(0x7f9f9431ef40, XGDMatrixCreateFromCSR): symbol not found\n",
      "Detailed Traceback:\n",
      "Traceback (most recent call last):\n",
      "  File \"/Users/huangjianming/opt/anaconda3/lib/python3.8/site-packages/autogluon/tabular/trainer/abstract_trainer.py\", line 962, in _train_and_save\n",
      "    model = self._train_single(X, y, model, X_val, y_val, **model_fit_kwargs)\n",
      "  File \"/Users/huangjianming/opt/anaconda3/lib/python3.8/site-packages/autogluon/tabular/trainer/abstract_trainer.py\", line 934, in _train_single\n",
      "    model = model.fit(X=X, y=y, X_val=X_val, y_val=y_val, **model_fit_kwargs)\n",
      "  File \"/Users/huangjianming/opt/anaconda3/lib/python3.8/site-packages/autogluon/core/models/abstract/abstract_model.py\", line 522, in fit\n",
      "    out = self._fit(**kwargs)\n",
      "  File \"/Users/huangjianming/opt/anaconda3/lib/python3.8/site-packages/autogluon/core/models/ensemble/stacker_ensemble_model.py\", line 153, in _fit\n",
      "    return super()._fit(X=X, y=y, time_limit=time_limit, **kwargs)\n",
      "  File \"/Users/huangjianming/opt/anaconda3/lib/python3.8/site-packages/autogluon/core/models/ensemble/bagged_ensemble_model.py\", line 188, in _fit\n",
      "    self._fit_folds(X=X, y=y, model_base=model_base, k_fold=k_fold, k_fold_start=k_fold_start, k_fold_end=k_fold_end,\n",
      "  File \"/Users/huangjianming/opt/anaconda3/lib/python3.8/site-packages/autogluon/core/models/ensemble/bagged_ensemble_model.py\", line 388, in _fit_folds\n",
      "    fold_fitting_strategy.after_all_folds_scheduled()\n",
      "  File \"/Users/huangjianming/opt/anaconda3/lib/python3.8/site-packages/autogluon/core/models/ensemble/fold_fitting_strategy.py\", line 59, in after_all_folds_scheduled\n",
      "    self._fit_fold_model(*job)\n",
      "  File \"/Users/huangjianming/opt/anaconda3/lib/python3.8/site-packages/autogluon/core/models/ensemble/fold_fitting_strategy.py\", line 64, in _fit_fold_model\n",
      "    fold_model = self._fit(model_base, time_start_fold, time_limit_fold, fold_ctx, kwargs)\n",
      "  File \"/Users/huangjianming/opt/anaconda3/lib/python3.8/site-packages/autogluon/core/models/ensemble/fold_fitting_strategy.py\", line 111, in _fit\n",
      "    fold_model.fit(X=X_fold, y=y_fold, X_val=X_val_fold, y_val=y_val_fold, time_limit=time_limit_fold, **kwargs_fold)\n",
      "  File \"/Users/huangjianming/opt/anaconda3/lib/python3.8/site-packages/autogluon/core/models/abstract/abstract_model.py\", line 522, in fit\n",
      "    out = self._fit(**kwargs)\n",
      "  File \"/Users/huangjianming/opt/anaconda3/lib/python3.8/site-packages/autogluon/tabular/models/xgboost/xgboost_model.py\", line 130, in _fit\n",
      "    self.model.fit(\n",
      "  File \"/Users/huangjianming/opt/anaconda3/lib/python3.8/site-packages/xgboost/core.py\", line 436, in inner_f\n",
      "    return f(**kwargs)\n",
      "  File \"/Users/huangjianming/opt/anaconda3/lib/python3.8/site-packages/xgboost/sklearn.py\", line 711, in fit\n",
      "    train_dmatrix, evals = _wrap_evaluation_matrices(\n",
      "  File \"/Users/huangjianming/opt/anaconda3/lib/python3.8/site-packages/xgboost/sklearn.py\", line 236, in _wrap_evaluation_matrices\n",
      "    train_dmatrix = create_dmatrix(\n",
      "  File \"/Users/huangjianming/opt/anaconda3/lib/python3.8/site-packages/xgboost/sklearn.py\", line 725, in <lambda>\n",
      "    create_dmatrix=lambda **kwargs: DMatrix(nthread=self.n_jobs, **kwargs),\n",
      "  File \"/Users/huangjianming/opt/anaconda3/lib/python3.8/site-packages/xgboost/core.py\", line 436, in inner_f\n",
      "    return f(**kwargs)\n",
      "  File \"/Users/huangjianming/opt/anaconda3/lib/python3.8/site-packages/xgboost/core.py\", line 541, in __init__\n",
      "    handle, feature_names, feature_types = dispatch_data_backend(\n",
      "  File \"/Users/huangjianming/opt/anaconda3/lib/python3.8/site-packages/xgboost/data.py\", line 558, in dispatch_data_backend\n",
      "    return _from_scipy_csr(data, missing, threads, feature_names, feature_types)\n",
      "  File \"/Users/huangjianming/opt/anaconda3/lib/python3.8/site-packages/xgboost/data.py\", line 56, in _from_scipy_csr\n",
      "    _LIB.XGDMatrixCreateFromCSR(\n",
      "  File \"/Users/huangjianming/opt/anaconda3/lib/python3.8/ctypes/__init__.py\", line 394, in __getattr__\n",
      "    func = self.__getitem__(name)\n",
      "  File \"/Users/huangjianming/opt/anaconda3/lib/python3.8/ctypes/__init__.py\", line 399, in __getitem__\n",
      "    func = self._FuncPtr((name_or_ordinal, self))\n",
      "AttributeError: dlsym(0x7f9f9431ef40, XGDMatrixCreateFromCSR): symbol not found\n",
      "Fitting model: NeuralNetMXNet_BAG_L1 ... Training model for up to 427.4s of the 1260.8s of remaining time.\n",
      "\tRan out of time, stopping training early. (Stopping on epoch 125)\n",
      "\tRan out of time, stopping training early. (Stopping on epoch 140)\n",
      "\tRan out of time, stopping training early. (Stopping on epoch 165)\n",
      "\t-83152.163\t = Validation score   (root_mean_squared_error)\n",
      "\t389.38s\t = Training   runtime\n",
      "\t0.74s\t = Validation runtime\n",
      "Fitting model: LightGBMLarge_BAG_L1 ... Training model for up to 37.23s of the 870.63s of remaining time.\n",
      "/Users/huangjianming/opt/anaconda3/lib/python3.8/site-packages/lightgbm/engine.py:239: UserWarning: 'verbose_eval' argument is deprecated and will be removed in a future release of LightGBM. Pass 'log_evaluation()' callback via 'callbacks' argument instead.\n",
      "  _log_warning(\"'verbose_eval' argument is deprecated and will be removed in a future release of LightGBM. \"\n"
     ]
    },
    {
     "name": "stdout",
     "output_type": "stream",
     "text": [
      "[1000]\ttrain_set's rmse: 23368\tvalid_set's rmse: 50554\n",
      "[2000]\ttrain_set's rmse: 13240.2\tvalid_set's rmse: 49031.6\n",
      "[3000]\ttrain_set's rmse: 8676.84\tvalid_set's rmse: 48692.9\n"
     ]
    },
    {
     "name": "stderr",
     "output_type": "stream",
     "text": [
      "\tRan out of time, early stopping on iteration 3788. Best iteration is:\n",
      "\t[3788]\ttrain_set's rmse: 6521.28\tvalid_set's rmse: 48597.5\n",
      "/Users/huangjianming/opt/anaconda3/lib/python3.8/site-packages/lightgbm/engine.py:239: UserWarning: 'verbose_eval' argument is deprecated and will be removed in a future release of LightGBM. Pass 'log_evaluation()' callback via 'callbacks' argument instead.\n",
      "  _log_warning(\"'verbose_eval' argument is deprecated and will be removed in a future release of LightGBM. \"\n"
     ]
    },
    {
     "name": "stdout",
     "output_type": "stream",
     "text": [
      "[1000]\ttrain_set's rmse: 23351.3\tvalid_set's rmse: 50754.6\n",
      "[2000]\ttrain_set's rmse: 13449.5\tvalid_set's rmse: 49046.2\n",
      "[3000]\ttrain_set's rmse: 8706.74\tvalid_set's rmse: 48760\n",
      "[4000]\ttrain_set's rmse: 5768.02\tvalid_set's rmse: 48690.3\n"
     ]
    },
    {
     "name": "stderr",
     "output_type": "stream",
     "text": [
      "\tRan out of time, early stopping on iteration 4180. Best iteration is:\n",
      "\t[4180]\ttrain_set's rmse: 5458.62\tvalid_set's rmse: 48673.7\n",
      "/Users/huangjianming/opt/anaconda3/lib/python3.8/site-packages/lightgbm/engine.py:239: UserWarning: 'verbose_eval' argument is deprecated and will be removed in a future release of LightGBM. Pass 'log_evaluation()' callback via 'callbacks' argument instead.\n",
      "  _log_warning(\"'verbose_eval' argument is deprecated and will be removed in a future release of LightGBM. \"\n"
     ]
    },
    {
     "name": "stdout",
     "output_type": "stream",
     "text": [
      "[1000]\ttrain_set's rmse: 22948.6\tvalid_set's rmse: 48781.5\n",
      "[2000]\ttrain_set's rmse: 13319.1\tvalid_set's rmse: 47118.3\n",
      "[3000]\ttrain_set's rmse: 8565.49\tvalid_set's rmse: 46775.2\n",
      "[4000]\ttrain_set's rmse: 5886.12\tvalid_set's rmse: 46652.8\n"
     ]
    },
    {
     "name": "stderr",
     "output_type": "stream",
     "text": [
      "\tRan out of time, early stopping on iteration 4899. Best iteration is:\n",
      "\t[4899]\ttrain_set's rmse: 4221.24\tvalid_set's rmse: 46596.1\n",
      "\t-47965.4465\t = Validation score   (root_mean_squared_error)\n",
      "\t32.84s\t = Training   runtime\n",
      "\t2.65s\t = Validation runtime\n",
      "Completed 1/20 k-fold bagging repeats ...\n",
      "Fitting model: WeightedEnsemble_L2 ... Training model for up to 360.0s of the 832.93s of remaining time.\n",
      "\t-37153.8084\t = Validation score   (root_mean_squared_error)\n",
      "\t0.45s\t = Training   runtime\n",
      "\t0.0s\t = Validation runtime\n",
      "Fitting 9 L2 models ...\n",
      "Fitting model: LightGBMXT_BAG_L2 ... Training model for up to 554.84s of the 832.46s of remaining time.\n",
      "/Users/huangjianming/opt/anaconda3/lib/python3.8/site-packages/lightgbm/engine.py:239: UserWarning: 'verbose_eval' argument is deprecated and will be removed in a future release of LightGBM. Pass 'log_evaluation()' callback via 'callbacks' argument instead.\n",
      "  _log_warning(\"'verbose_eval' argument is deprecated and will be removed in a future release of LightGBM. \"\n"
     ]
    },
    {
     "name": "stdout",
     "output_type": "stream",
     "text": [
      "[1000]\ttrain_set's rmse: 23717.2\tvalid_set's rmse: 28882.9\n"
     ]
    },
    {
     "name": "stderr",
     "output_type": "stream",
     "text": [
      "/Users/huangjianming/opt/anaconda3/lib/python3.8/site-packages/lightgbm/engine.py:239: UserWarning: 'verbose_eval' argument is deprecated and will be removed in a future release of LightGBM. Pass 'log_evaluation()' callback via 'callbacks' argument instead.\n",
      "  _log_warning(\"'verbose_eval' argument is deprecated and will be removed in a future release of LightGBM. \"\n"
     ]
    },
    {
     "name": "stdout",
     "output_type": "stream",
     "text": [
      "[1000]\ttrain_set's rmse: 23429.4\tvalid_set's rmse: 29282.1\n",
      "[2000]\ttrain_set's rmse: 20202.7\tvalid_set's rmse: 29147.1\n"
     ]
    },
    {
     "name": "stderr",
     "output_type": "stream",
     "text": [
      "/Users/huangjianming/opt/anaconda3/lib/python3.8/site-packages/lightgbm/engine.py:239: UserWarning: 'verbose_eval' argument is deprecated and will be removed in a future release of LightGBM. Pass 'log_evaluation()' callback via 'callbacks' argument instead.\n",
      "  _log_warning(\"'verbose_eval' argument is deprecated and will be removed in a future release of LightGBM. \"\n"
     ]
    },
    {
     "name": "stdout",
     "output_type": "stream",
     "text": [
      "[1000]\ttrain_set's rmse: 23521.4\tvalid_set's rmse: 29276.1\n",
      "[2000]\ttrain_set's rmse: 20317.5\tvalid_set's rmse: 29138.7\n",
      "[3000]\ttrain_set's rmse: 18088\tvalid_set's rmse: 29158.4\n"
     ]
    },
    {
     "name": "stderr",
     "output_type": "stream",
     "text": [
      "\t-29045.7862\t = Validation score   (root_mean_squared_error)\n",
      "\t7.94s\t = Training   runtime\n",
      "\t0.6s\t = Validation runtime\n",
      "Fitting model: LightGBM_BAG_L2 ... Training model for up to 546.02s of the 823.64s of remaining time.\n",
      "/Users/huangjianming/opt/anaconda3/lib/python3.8/site-packages/lightgbm/engine.py:239: UserWarning: 'verbose_eval' argument is deprecated and will be removed in a future release of LightGBM. Pass 'log_evaluation()' callback via 'callbacks' argument instead.\n",
      "  _log_warning(\"'verbose_eval' argument is deprecated and will be removed in a future release of LightGBM. \"\n"
     ]
    },
    {
     "name": "stdout",
     "output_type": "stream",
     "text": [
      "[1000]\ttrain_set's rmse: 16842.5\tvalid_set's rmse: 28948.1\n"
     ]
    },
    {
     "name": "stderr",
     "output_type": "stream",
     "text": [
      "/Users/huangjianming/opt/anaconda3/lib/python3.8/site-packages/lightgbm/engine.py:239: UserWarning: 'verbose_eval' argument is deprecated and will be removed in a future release of LightGBM. Pass 'log_evaluation()' callback via 'callbacks' argument instead.\n",
      "  _log_warning(\"'verbose_eval' argument is deprecated and will be removed in a future release of LightGBM. \"\n"
     ]
    },
    {
     "name": "stdout",
     "output_type": "stream",
     "text": [
      "[1000]\ttrain_set's rmse: 16532.6\tvalid_set's rmse: 29332.5\n"
     ]
    },
    {
     "name": "stderr",
     "output_type": "stream",
     "text": [
      "/Users/huangjianming/opt/anaconda3/lib/python3.8/site-packages/lightgbm/engine.py:239: UserWarning: 'verbose_eval' argument is deprecated and will be removed in a future release of LightGBM. Pass 'log_evaluation()' callback via 'callbacks' argument instead.\n",
      "  _log_warning(\"'verbose_eval' argument is deprecated and will be removed in a future release of LightGBM. \"\n",
      "\t-29173.9936\t = Validation score   (root_mean_squared_error)\n",
      "\t3.83s\t = Training   runtime\n",
      "\t0.26s\t = Validation runtime\n",
      "Fitting model: RandomForestMSE_BAG_L2 ... Training model for up to 541.78s of the 819.4s of remaining time.\n",
      "\t-29399.0133\t = Validation score   (root_mean_squared_error)\n",
      "\t17.77s\t = Training   runtime\n",
      "\t1.52s\t = Validation runtime\n",
      "Fitting model: CatBoost_BAG_L2 ... Training model for up to 521.4s of the 799.01s of remaining time.\n",
      "\t-28992.3217\t = Validation score   (root_mean_squared_error)\n",
      "\t11.77s\t = Training   runtime\n",
      "\t0.02s\t = Validation runtime\n",
      "Fitting model: ExtraTreesMSE_BAG_L2 ... Training model for up to 509.56s of the 787.17s of remaining time.\n",
      "\t-29257.8294\t = Validation score   (root_mean_squared_error)\n",
      "\t3.67s\t = Training   runtime\n",
      "\t1.67s\t = Validation runtime\n",
      "Fitting model: NeuralNetFastAI_BAG_L2 ... Training model for up to 503.12s of the 780.73s of remaining time.\n",
      "\t-28902.9108\t = Validation score   (root_mean_squared_error)\n",
      "\t78.24s\t = Training   runtime\n",
      "\t0.39s\t = Validation runtime\n",
      "Fitting model: XGBoost_BAG_L2 ... Training model for up to 424.37s of the 701.99s of remaining time.\n",
      "\tWarning: Exception caused XGBoost_BAG_L2 to fail during training... Skipping this model.\n",
      "\t\tdlsym(0x7f9f9431ef40, XGDMatrixCreateFromCSR): symbol not found\n",
      "Detailed Traceback:\n",
      "Traceback (most recent call last):\n",
      "  File \"/Users/huangjianming/opt/anaconda3/lib/python3.8/site-packages/autogluon/tabular/trainer/abstract_trainer.py\", line 962, in _train_and_save\n",
      "    model = self._train_single(X, y, model, X_val, y_val, **model_fit_kwargs)\n",
      "  File \"/Users/huangjianming/opt/anaconda3/lib/python3.8/site-packages/autogluon/tabular/trainer/abstract_trainer.py\", line 934, in _train_single\n",
      "    model = model.fit(X=X, y=y, X_val=X_val, y_val=y_val, **model_fit_kwargs)\n",
      "  File \"/Users/huangjianming/opt/anaconda3/lib/python3.8/site-packages/autogluon/core/models/abstract/abstract_model.py\", line 522, in fit\n",
      "    out = self._fit(**kwargs)\n",
      "  File \"/Users/huangjianming/opt/anaconda3/lib/python3.8/site-packages/autogluon/core/models/ensemble/stacker_ensemble_model.py\", line 153, in _fit\n",
      "    return super()._fit(X=X, y=y, time_limit=time_limit, **kwargs)\n",
      "  File \"/Users/huangjianming/opt/anaconda3/lib/python3.8/site-packages/autogluon/core/models/ensemble/bagged_ensemble_model.py\", line 188, in _fit\n",
      "    self._fit_folds(X=X, y=y, model_base=model_base, k_fold=k_fold, k_fold_start=k_fold_start, k_fold_end=k_fold_end,\n",
      "  File \"/Users/huangjianming/opt/anaconda3/lib/python3.8/site-packages/autogluon/core/models/ensemble/bagged_ensemble_model.py\", line 388, in _fit_folds\n",
      "    fold_fitting_strategy.after_all_folds_scheduled()\n",
      "  File \"/Users/huangjianming/opt/anaconda3/lib/python3.8/site-packages/autogluon/core/models/ensemble/fold_fitting_strategy.py\", line 59, in after_all_folds_scheduled\n",
      "    self._fit_fold_model(*job)\n",
      "  File \"/Users/huangjianming/opt/anaconda3/lib/python3.8/site-packages/autogluon/core/models/ensemble/fold_fitting_strategy.py\", line 64, in _fit_fold_model\n",
      "    fold_model = self._fit(model_base, time_start_fold, time_limit_fold, fold_ctx, kwargs)\n",
      "  File \"/Users/huangjianming/opt/anaconda3/lib/python3.8/site-packages/autogluon/core/models/ensemble/fold_fitting_strategy.py\", line 111, in _fit\n",
      "    fold_model.fit(X=X_fold, y=y_fold, X_val=X_val_fold, y_val=y_val_fold, time_limit=time_limit_fold, **kwargs_fold)\n",
      "  File \"/Users/huangjianming/opt/anaconda3/lib/python3.8/site-packages/autogluon/core/models/abstract/abstract_model.py\", line 522, in fit\n",
      "    out = self._fit(**kwargs)\n",
      "  File \"/Users/huangjianming/opt/anaconda3/lib/python3.8/site-packages/autogluon/tabular/models/xgboost/xgboost_model.py\", line 130, in _fit\n",
      "    self.model.fit(\n",
      "  File \"/Users/huangjianming/opt/anaconda3/lib/python3.8/site-packages/xgboost/core.py\", line 436, in inner_f\n",
      "    return f(**kwargs)\n",
      "  File \"/Users/huangjianming/opt/anaconda3/lib/python3.8/site-packages/xgboost/sklearn.py\", line 711, in fit\n",
      "    train_dmatrix, evals = _wrap_evaluation_matrices(\n",
      "  File \"/Users/huangjianming/opt/anaconda3/lib/python3.8/site-packages/xgboost/sklearn.py\", line 236, in _wrap_evaluation_matrices\n",
      "    train_dmatrix = create_dmatrix(\n",
      "  File \"/Users/huangjianming/opt/anaconda3/lib/python3.8/site-packages/xgboost/sklearn.py\", line 725, in <lambda>\n",
      "    create_dmatrix=lambda **kwargs: DMatrix(nthread=self.n_jobs, **kwargs),\n",
      "  File \"/Users/huangjianming/opt/anaconda3/lib/python3.8/site-packages/xgboost/core.py\", line 436, in inner_f\n",
      "    return f(**kwargs)\n",
      "  File \"/Users/huangjianming/opt/anaconda3/lib/python3.8/site-packages/xgboost/core.py\", line 541, in __init__\n",
      "    handle, feature_names, feature_types = dispatch_data_backend(\n",
      "  File \"/Users/huangjianming/opt/anaconda3/lib/python3.8/site-packages/xgboost/data.py\", line 558, in dispatch_data_backend\n",
      "    return _from_scipy_csr(data, missing, threads, feature_names, feature_types)\n",
      "  File \"/Users/huangjianming/opt/anaconda3/lib/python3.8/site-packages/xgboost/data.py\", line 56, in _from_scipy_csr\n",
      "    _LIB.XGDMatrixCreateFromCSR(\n",
      "  File \"/Users/huangjianming/opt/anaconda3/lib/python3.8/ctypes/__init__.py\", line 394, in __getattr__\n",
      "    func = self.__getitem__(name)\n",
      "  File \"/Users/huangjianming/opt/anaconda3/lib/python3.8/ctypes/__init__.py\", line 399, in __getitem__\n",
      "    func = self._FuncPtr((name_or_ordinal, self))\n",
      "AttributeError: dlsym(0x7f9f9431ef40, XGDMatrixCreateFromCSR): symbol not found\n",
      "Fitting model: NeuralNetMXNet_BAG_L2 ... Training model for up to 424.27s of the 701.89s of remaining time.\n",
      "\t-28547.6583\t = Validation score   (root_mean_squared_error)\n",
      "\t211.65s\t = Training   runtime\n",
      "\t0.62s\t = Validation runtime\n",
      "Fitting model: LightGBMLarge_BAG_L2 ... Training model for up to 211.94s of the 489.56s of remaining time.\n",
      "/Users/huangjianming/opt/anaconda3/lib/python3.8/site-packages/lightgbm/engine.py:239: UserWarning: 'verbose_eval' argument is deprecated and will be removed in a future release of LightGBM. Pass 'log_evaluation()' callback via 'callbacks' argument instead.\n",
      "  _log_warning(\"'verbose_eval' argument is deprecated and will be removed in a future release of LightGBM. \"\n"
     ]
    },
    {
     "name": "stdout",
     "output_type": "stream",
     "text": [
      "[1000]\ttrain_set's rmse: 8297.14\tvalid_set's rmse: 28933.4\n"
     ]
    },
    {
     "name": "stderr",
     "output_type": "stream",
     "text": [
      "/Users/huangjianming/opt/anaconda3/lib/python3.8/site-packages/lightgbm/engine.py:239: UserWarning: 'verbose_eval' argument is deprecated and will be removed in a future release of LightGBM. Pass 'log_evaluation()' callback via 'callbacks' argument instead.\n",
      "  _log_warning(\"'verbose_eval' argument is deprecated and will be removed in a future release of LightGBM. \"\n"
     ]
    },
    {
     "name": "stdout",
     "output_type": "stream",
     "text": [
      "[1000]\ttrain_set's rmse: 8153.95\tvalid_set's rmse: 29107.9\n"
     ]
    },
    {
     "name": "stderr",
     "output_type": "stream",
     "text": [
      "/Users/huangjianming/opt/anaconda3/lib/python3.8/site-packages/lightgbm/engine.py:239: UserWarning: 'verbose_eval' argument is deprecated and will be removed in a future release of LightGBM. Pass 'log_evaluation()' callback via 'callbacks' argument instead.\n",
      "  _log_warning(\"'verbose_eval' argument is deprecated and will be removed in a future release of LightGBM. \"\n",
      "\t-29066.8888\t = Validation score   (root_mean_squared_error)\n",
      "\t9.31s\t = Training   runtime\n",
      "\t0.44s\t = Validation runtime\n",
      "Completed 1/20 k-fold bagging repeats ...\n",
      "Fitting model: WeightedEnsemble_L3 ... Training model for up to 360.0s of the 479.25s of remaining time.\n",
      "\t-28128.0619\t = Validation score   (root_mean_squared_error)\n",
      "\t0.44s\t = Training   runtime\n",
      "\t0.0s\t = Validation runtime\n",
      "Fitting 9 L3 models ...\n",
      "Fitting model: LightGBMXT_BAG_L3 ... Training model for up to 478.8s of the 478.79s of remaining time.\n",
      "/Users/huangjianming/opt/anaconda3/lib/python3.8/site-packages/lightgbm/engine.py:239: UserWarning: 'verbose_eval' argument is deprecated and will be removed in a future release of LightGBM. Pass 'log_evaluation()' callback via 'callbacks' argument instead.\n",
      "  _log_warning(\"'verbose_eval' argument is deprecated and will be removed in a future release of LightGBM. \"\n",
      "/Users/huangjianming/opt/anaconda3/lib/python3.8/site-packages/lightgbm/engine.py:239: UserWarning: 'verbose_eval' argument is deprecated and will be removed in a future release of LightGBM. Pass 'log_evaluation()' callback via 'callbacks' argument instead.\n",
      "  _log_warning(\"'verbose_eval' argument is deprecated and will be removed in a future release of LightGBM. \"\n",
      "/Users/huangjianming/opt/anaconda3/lib/python3.8/site-packages/lightgbm/engine.py:239: UserWarning: 'verbose_eval' argument is deprecated and will be removed in a future release of LightGBM. Pass 'log_evaluation()' callback via 'callbacks' argument instead.\n",
      "  _log_warning(\"'verbose_eval' argument is deprecated and will be removed in a future release of LightGBM. \"\n",
      "\t-28301.0557\t = Validation score   (root_mean_squared_error)\n",
      "\t1.64s\t = Training   runtime\n",
      "\t0.12s\t = Validation runtime\n",
      "Fitting model: LightGBM_BAG_L3 ... Training model for up to 476.97s of the 476.96s of remaining time.\n",
      "/Users/huangjianming/opt/anaconda3/lib/python3.8/site-packages/lightgbm/engine.py:239: UserWarning: 'verbose_eval' argument is deprecated and will be removed in a future release of LightGBM. Pass 'log_evaluation()' callback via 'callbacks' argument instead.\n",
      "  _log_warning(\"'verbose_eval' argument is deprecated and will be removed in a future release of LightGBM. \"\n",
      "/Users/huangjianming/opt/anaconda3/lib/python3.8/site-packages/lightgbm/engine.py:239: UserWarning: 'verbose_eval' argument is deprecated and will be removed in a future release of LightGBM. Pass 'log_evaluation()' callback via 'callbacks' argument instead.\n",
      "  _log_warning(\"'verbose_eval' argument is deprecated and will be removed in a future release of LightGBM. \"\n",
      "/Users/huangjianming/opt/anaconda3/lib/python3.8/site-packages/lightgbm/engine.py:239: UserWarning: 'verbose_eval' argument is deprecated and will be removed in a future release of LightGBM. Pass 'log_evaluation()' callback via 'callbacks' argument instead.\n",
      "  _log_warning(\"'verbose_eval' argument is deprecated and will be removed in a future release of LightGBM. \"\n",
      "\t-28301.8395\t = Validation score   (root_mean_squared_error)\n",
      "\t1.32s\t = Training   runtime\n",
      "\t0.09s\t = Validation runtime\n",
      "Fitting model: RandomForestMSE_BAG_L3 ... Training model for up to 475.49s of the 475.48s of remaining time.\n",
      "\t-28729.6685\t = Validation score   (root_mean_squared_error)\n",
      "\t17.02s\t = Training   runtime\n",
      "\t1.42s\t = Validation runtime\n",
      "Fitting model: CatBoost_BAG_L3 ... Training model for up to 455.94s of the 455.93s of remaining time.\n",
      "\t-28330.7474\t = Validation score   (root_mean_squared_error)\n",
      "\t2.82s\t = Training   runtime\n",
      "\t0.01s\t = Validation runtime\n",
      "Fitting model: ExtraTreesMSE_BAG_L3 ... Training model for up to 453.06s of the 453.05s of remaining time.\n",
      "\t-28453.4859\t = Validation score   (root_mean_squared_error)\n",
      "\t3.01s\t = Training   runtime\n",
      "\t1.33s\t = Validation runtime\n",
      "Fitting model: NeuralNetFastAI_BAG_L3 ... Training model for up to 447.78s of the 447.76s of remaining time.\n",
      "\t-28181.5247\t = Validation score   (root_mean_squared_error)\n",
      "\t74.01s\t = Training   runtime\n",
      "\t0.33s\t = Validation runtime\n",
      "Fitting model: XGBoost_BAG_L3 ... Training model for up to 373.34s of the 373.33s of remaining time.\n",
      "\tWarning: Exception caused XGBoost_BAG_L3 to fail during training... Skipping this model.\n",
      "\t\tdlsym(0x7f9f9431ef40, XGDMatrixCreateFromCSR): symbol not found\n",
      "Detailed Traceback:\n",
      "Traceback (most recent call last):\n",
      "  File \"/Users/huangjianming/opt/anaconda3/lib/python3.8/site-packages/autogluon/tabular/trainer/abstract_trainer.py\", line 962, in _train_and_save\n",
      "    model = self._train_single(X, y, model, X_val, y_val, **model_fit_kwargs)\n",
      "  File \"/Users/huangjianming/opt/anaconda3/lib/python3.8/site-packages/autogluon/tabular/trainer/abstract_trainer.py\", line 934, in _train_single\n",
      "    model = model.fit(X=X, y=y, X_val=X_val, y_val=y_val, **model_fit_kwargs)\n",
      "  File \"/Users/huangjianming/opt/anaconda3/lib/python3.8/site-packages/autogluon/core/models/abstract/abstract_model.py\", line 522, in fit\n",
      "    out = self._fit(**kwargs)\n",
      "  File \"/Users/huangjianming/opt/anaconda3/lib/python3.8/site-packages/autogluon/core/models/ensemble/stacker_ensemble_model.py\", line 153, in _fit\n",
      "    return super()._fit(X=X, y=y, time_limit=time_limit, **kwargs)\n",
      "  File \"/Users/huangjianming/opt/anaconda3/lib/python3.8/site-packages/autogluon/core/models/ensemble/bagged_ensemble_model.py\", line 188, in _fit\n",
      "    self._fit_folds(X=X, y=y, model_base=model_base, k_fold=k_fold, k_fold_start=k_fold_start, k_fold_end=k_fold_end,\n",
      "  File \"/Users/huangjianming/opt/anaconda3/lib/python3.8/site-packages/autogluon/core/models/ensemble/bagged_ensemble_model.py\", line 388, in _fit_folds\n",
      "    fold_fitting_strategy.after_all_folds_scheduled()\n",
      "  File \"/Users/huangjianming/opt/anaconda3/lib/python3.8/site-packages/autogluon/core/models/ensemble/fold_fitting_strategy.py\", line 59, in after_all_folds_scheduled\n",
      "    self._fit_fold_model(*job)\n",
      "  File \"/Users/huangjianming/opt/anaconda3/lib/python3.8/site-packages/autogluon/core/models/ensemble/fold_fitting_strategy.py\", line 64, in _fit_fold_model\n",
      "    fold_model = self._fit(model_base, time_start_fold, time_limit_fold, fold_ctx, kwargs)\n",
      "  File \"/Users/huangjianming/opt/anaconda3/lib/python3.8/site-packages/autogluon/core/models/ensemble/fold_fitting_strategy.py\", line 111, in _fit\n",
      "    fold_model.fit(X=X_fold, y=y_fold, X_val=X_val_fold, y_val=y_val_fold, time_limit=time_limit_fold, **kwargs_fold)\n",
      "  File \"/Users/huangjianming/opt/anaconda3/lib/python3.8/site-packages/autogluon/core/models/abstract/abstract_model.py\", line 522, in fit\n",
      "    out = self._fit(**kwargs)\n",
      "  File \"/Users/huangjianming/opt/anaconda3/lib/python3.8/site-packages/autogluon/tabular/models/xgboost/xgboost_model.py\", line 130, in _fit\n",
      "    self.model.fit(\n",
      "  File \"/Users/huangjianming/opt/anaconda3/lib/python3.8/site-packages/xgboost/core.py\", line 436, in inner_f\n",
      "    return f(**kwargs)\n",
      "  File \"/Users/huangjianming/opt/anaconda3/lib/python3.8/site-packages/xgboost/sklearn.py\", line 711, in fit\n",
      "    train_dmatrix, evals = _wrap_evaluation_matrices(\n",
      "  File \"/Users/huangjianming/opt/anaconda3/lib/python3.8/site-packages/xgboost/sklearn.py\", line 236, in _wrap_evaluation_matrices\n",
      "    train_dmatrix = create_dmatrix(\n",
      "  File \"/Users/huangjianming/opt/anaconda3/lib/python3.8/site-packages/xgboost/sklearn.py\", line 725, in <lambda>\n",
      "    create_dmatrix=lambda **kwargs: DMatrix(nthread=self.n_jobs, **kwargs),\n",
      "  File \"/Users/huangjianming/opt/anaconda3/lib/python3.8/site-packages/xgboost/core.py\", line 436, in inner_f\n",
      "    return f(**kwargs)\n",
      "  File \"/Users/huangjianming/opt/anaconda3/lib/python3.8/site-packages/xgboost/core.py\", line 541, in __init__\n",
      "    handle, feature_names, feature_types = dispatch_data_backend(\n",
      "  File \"/Users/huangjianming/opt/anaconda3/lib/python3.8/site-packages/xgboost/data.py\", line 558, in dispatch_data_backend\n",
      "    return _from_scipy_csr(data, missing, threads, feature_names, feature_types)\n",
      "  File \"/Users/huangjianming/opt/anaconda3/lib/python3.8/site-packages/xgboost/data.py\", line 56, in _from_scipy_csr\n",
      "    _LIB.XGDMatrixCreateFromCSR(\n",
      "  File \"/Users/huangjianming/opt/anaconda3/lib/python3.8/ctypes/__init__.py\", line 394, in __getattr__\n",
      "    func = self.__getitem__(name)\n",
      "  File \"/Users/huangjianming/opt/anaconda3/lib/python3.8/ctypes/__init__.py\", line 399, in __getitem__\n",
      "    func = self._FuncPtr((name_or_ordinal, self))\n",
      "AttributeError: dlsym(0x7f9f9431ef40, XGDMatrixCreateFromCSR): symbol not found\n",
      "Fitting model: NeuralNetMXNet_BAG_L3 ... Training model for up to 373.26s of the 373.25s of remaining time.\n",
      "\t-28239.5063\t = Validation score   (root_mean_squared_error)\n",
      "\t255.04s\t = Training   runtime\n",
      "\t0.67s\t = Validation runtime\n",
      "Fitting model: LightGBMLarge_BAG_L3 ... Training model for up to 117.49s of the 117.48s of remaining time.\n",
      "/Users/huangjianming/opt/anaconda3/lib/python3.8/site-packages/lightgbm/engine.py:239: UserWarning: 'verbose_eval' argument is deprecated and will be removed in a future release of LightGBM. Pass 'log_evaluation()' callback via 'callbacks' argument instead.\n",
      "  _log_warning(\"'verbose_eval' argument is deprecated and will be removed in a future release of LightGBM. \"\n",
      "/Users/huangjianming/opt/anaconda3/lib/python3.8/site-packages/lightgbm/engine.py:239: UserWarning: 'verbose_eval' argument is deprecated and will be removed in a future release of LightGBM. Pass 'log_evaluation()' callback via 'callbacks' argument instead.\n",
      "  _log_warning(\"'verbose_eval' argument is deprecated and will be removed in a future release of LightGBM. \"\n",
      "/Users/huangjianming/opt/anaconda3/lib/python3.8/site-packages/lightgbm/engine.py:239: UserWarning: 'verbose_eval' argument is deprecated and will be removed in a future release of LightGBM. Pass 'log_evaluation()' callback via 'callbacks' argument instead.\n",
      "  _log_warning(\"'verbose_eval' argument is deprecated and will be removed in a future release of LightGBM. \"\n",
      "\t-28645.531\t = Validation score   (root_mean_squared_error)\n",
      "\t2.88s\t = Training   runtime\n",
      "\t0.1s\t = Validation runtime\n",
      "Completed 1/20 k-fold bagging repeats ...\n",
      "Fitting model: WeightedEnsemble_L4 ... Training model for up to 360.0s of the 114.37s of remaining time.\n",
      "\t-28052.5274\t = Validation score   (root_mean_squared_error)\n",
      "\t0.47s\t = Training   runtime\n",
      "\t0.0s\t = Validation runtime\n",
      "AutoGluon training complete, total runtime = 1386.12s ...\n",
      "TabularPredictor saved. To load, use: predictor = TabularPredictor.load(\"AutogluonModels/ag-20220130_000934/\")\n"
     ]
    }
   ],
   "source": [
    "predictor = TabularPredictor(label='Y', \n",
    "                             eval_metric='root_mean_squared_error')\\\n",
    "            .fit(train_data,num_stack_levels=2,num_bag_folds=3,time_limit=60*25)"
   ]
  },
  {
   "cell_type": "code",
   "execution_count": 18,
   "metadata": {},
   "outputs": [
    {
     "name": "stderr",
     "output_type": "stream",
     "text": [
      "Evaluation: root_mean_squared_error on test data: -26130.546741960723\n",
      "\tNote: Scores are always higher_is_better. This metric score can be multiplied by -1 to get the metric value.\n",
      "Evaluations on test data:\n",
      "{\n",
      "    \"root_mean_squared_error\": -26130.546741960723,\n",
      "    \"mean_squared_error\": -682805473.0337927,\n",
      "    \"mean_absolute_error\": -15434.428705860259,\n",
      "    \"r2\": 0.9534404676875203,\n",
      "    \"pearsonr\": 0.9764831119751579,\n",
      "    \"median_absolute_error\": -8470.167330000026\n",
      "}\n"
     ]
    }
   ],
   "source": [
    "predictions = predictor.predict(val_data.drop(columns=['Y']))\n",
    "y_true=val_data[\"Y\"]\n",
    "y_pred = predictor.predict(val_data.drop(columns=['Y']))\n",
    "perf = predictor.evaluate_predictions(y_true=y_true, y_pred=y_pred, auxiliary_metrics=True)"
   ]
  },
  {
   "cell_type": "code",
   "execution_count": 6,
   "metadata": {},
   "outputs": [
    {
     "name": "stdout",
     "output_type": "stream",
     "text": [
      "*** Summary of fit() ***\n",
      "Estimated performance of each model:\n",
      "                     model      score_val  pred_time_val     fit_time  pred_time_val_marginal  fit_time_marginal  stack_level  can_infer  fit_order\n",
      "0      WeightedEnsemble_L4  -28052.527390      28.132303  1337.297362                0.001287           0.472106            4       True         29\n",
      "1      WeightedEnsemble_L3  -28128.061923      22.234947   965.947331                0.000745           0.439590            3       True         20\n",
      "2   NeuralNetFastAI_BAG_L3  -28181.524654      24.506627  1058.783382                0.326862          74.009997            3       True         26\n",
      "3    NeuralNetMXNet_BAG_L3  -28239.506338      24.848327  1239.815883                0.668562         255.042498            3       True         27\n",
      "4        LightGBMXT_BAG_L3  -28301.055717      24.301124   986.412691                0.121359           1.639306            3       True         21\n",
      "5          LightGBM_BAG_L3  -28301.839481      24.269539   986.096242                0.089774           1.322857            3       True         22\n",
      "6          CatBoost_BAG_L3  -28330.747353      24.190534   987.595994                0.010769           2.822609            3       True         24\n",
      "7     ExtraTreesMSE_BAG_L3  -28453.485864      25.508200   987.787154                1.328436           3.013769            3       True         25\n",
      "8    NeuralNetMXNet_BAG_L2  -28547.658337      19.288724   852.240387                0.615044         211.651154            2       True         18\n",
      "9     LightGBMLarge_BAG_L3  -28645.531044      24.276722   987.658341                0.096957           2.884956            3       True         28\n",
      "10  RandomForestMSE_BAG_L3  -28729.668459      25.596023  1001.796829                1.416258          17.023444            3       True         23\n",
      "11  NeuralNetFastAI_BAG_L2  -28902.910801      19.063746   718.829827                0.390066          78.240594            2       True         17\n",
      "12         CatBoost_BAG_L2  -28992.321749      18.691464   652.356060                0.017784          11.766827            2       True         15\n",
      "13       LightGBMXT_BAG_L2  -29045.786156      19.274313   648.527012                0.600633           7.937779            2       True         12\n",
      "14    LightGBMLarge_BAG_L2  -29066.888796      19.111260   649.904200                0.437580           9.314966            2       True         19\n",
      "15         LightGBM_BAG_L2  -29173.993618      18.930257   644.418005                0.256576           3.828772            2       True         13\n",
      "16    ExtraTreesMSE_BAG_L2  -29257.829418      20.344882   644.259278                1.671202           3.670045            2       True         16\n",
      "17  RandomForestMSE_BAG_L2  -29399.013275      20.190880   658.363247                1.517199          17.774014            2       True         14\n",
      "18     WeightedEnsemble_L2  -37153.808368       5.314153    39.982024                0.000732           0.449111            2       True         11\n",
      "19  RandomForestMSE_BAG_L1  -37632.523633       1.405756     5.087812                1.405756           5.087812            1       True          5\n",
      "20    ExtraTreesMSE_BAG_L1  -40404.769005       1.253501     1.606198                1.253501           1.606198            1       True          7\n",
      "21    LightGBMLarge_BAG_L1  -47965.446491       2.654164    32.838903                2.654164          32.838903            1       True         10\n",
      "22         LightGBM_BAG_L1  -51014.784350       5.591801    32.077615                5.591801          32.077615            1       True          4\n",
      "23         CatBoost_BAG_L1  -51622.539281       0.059478    68.679697                0.059478          68.679697            1       True          6\n",
      "24       LightGBMXT_BAG_L1  -65068.619029       6.379709    31.498851                6.379709          31.498851            1       True          3\n",
      "25   NeuralNetMXNet_BAG_L1  -83152.162954       0.740516   389.378828                0.740516         389.378828            1       True          9\n",
      "26  NeuralNetFastAI_BAG_L1  -89652.173910       0.424749    79.331206                0.424749          79.331206            1       True          8\n",
      "27   KNeighborsDist_BAG_L1 -100125.224007       0.079879     0.041245                0.079879           0.041245            1       True          2\n",
      "28   KNeighborsUnif_BAG_L1 -100439.910821       0.084127     0.048879                0.084127           0.048879            1       True          1\n",
      "Number of models trained: 29\n",
      "Types of models trained:\n",
      "{'StackerEnsembleModel_NNFastAiTabular', 'StackerEnsembleModel_TabularNeuralNet', 'StackerEnsembleModel_XT', 'StackerEnsembleModel_CatBoost', 'StackerEnsembleModel_RF', 'WeightedEnsembleModel', 'StackerEnsembleModel_LGB', 'StackerEnsembleModel_KNN'}\n",
      "Bagging used: True  (with 3 folds)\n",
      "Multi-layer stack-ensembling used: True  (with 4 levels)\n",
      "Feature Metadata (Processed):\n",
      "(raw dtype, special dtypes):\n",
      "('float', [])                : 4 | ['X1', 'X2', 'X3', 'X4']\n",
      "('int', ['datetime_as_int']) : 1 | ['DateTime']\n",
      "Plot summary of models saved to file: AutogluonModels/ag-20220130_000934/SummaryOfModels.html\n",
      "*** End of fit() summary ***\n"
     ]
    }
   ],
   "source": [
    "results = predictor.fit_summary()"
   ]
  },
  {
   "cell_type": "code",
   "execution_count": 10,
   "metadata": {},
   "outputs": [
    {
     "data": {
      "text/plain": [
       "682805473.0337927"
      ]
     },
     "execution_count": 10,
     "metadata": {},
     "output_type": "execute_result"
    }
   ],
   "source": [
    "mean_squared_error(y_true, predictions)"
   ]
  },
  {
   "cell_type": "code",
   "execution_count": 37,
   "metadata": {},
   "outputs": [
    {
     "name": "stderr",
     "output_type": "stream",
     "text": [
      "Loaded data from: t1.csv | Columns = 5 / 5 | Rows = 4194 -> 4194\n"
     ]
    },
    {
     "name": "stdout",
     "output_type": "stream",
     "text": [
      "Predictions: \n",
      " 0       404103.81250\n",
      "1       405114.43750\n",
      "2       399149.46875\n",
      "3       395558.65625\n",
      "4       394812.34375\n",
      "            ...     \n",
      "4189    363396.75000\n",
      "4190    364961.96875\n",
      "4191    369387.25000\n",
      "4192    366372.81250\n",
      "4193    372869.75000\n",
      "Name: Y, Length: 4194, dtype: float32\n"
     ]
    }
   ],
   "source": [
    "predictor=TabularPredictor.load(\"AutogluonModels/ag-20220130_000934/\")\n",
    "df_pred_1=TabularDataset('CH22_Demand_raw_X_Test.csv')\n",
    "pred=predictor.predict(df_pred_1)\n",
    "print(\"Predictions: \\n\",pred)"
   ]
  },
  {
   "cell_type": "code",
   "execution_count": 38,
   "metadata": {},
   "outputs": [],
   "source": [
    "submission = pd.read_csv('CH22_Demand_raw_X_Test.csv')\n",
    "submission['Y'] = pred\n",
    "submission.head()\n",
    "submission.to_csv('CH22_Demand_raw_X_Test.csv', index=False)"
   ]
  },
  {
   "cell_type": "code",
   "execution_count": null,
   "metadata": {},
   "outputs": [],
   "source": []
  },
  {
   "cell_type": "code",
   "execution_count": null,
   "metadata": {},
   "outputs": [],
   "source": []
  }
 ],
 "metadata": {
  "kernelspec": {
   "display_name": "Python 3",
   "language": "python",
   "name": "python3"
  },
  "language_info": {
   "codemirror_mode": {
    "name": "ipython",
    "version": 3
   },
   "file_extension": ".py",
   "mimetype": "text/x-python",
   "name": "python",
   "nbconvert_exporter": "python",
   "pygments_lexer": "ipython3",
   "version": "3.8.8"
  }
 },
 "nbformat": 4,
 "nbformat_minor": 2
}
