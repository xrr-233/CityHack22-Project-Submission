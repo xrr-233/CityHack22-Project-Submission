{
 "cells": [
  {
   "cell_type": "code",
   "execution_count": null,
   "metadata": {},
   "outputs": [],
   "source": [
    "from torch import nn\n",
    "from model import Mydataset, generate_dataloaders, Model_v1, train_model\n",
    "from argparse import Namespace\n",
    "\n",
    "# Net\n",
    "# f1: the same time of last 7 days (extract from y);  shape=(7*1,)\n",
    "# f2: the datetime as a categorical value (hh:mm); shape=(1,)\n",
    "# f3: the previous two hour x1, x2, x3, x4 multi-value time series;  shape=(2*6,5)\n",
    "# f4: the previous two hour y; shape=(2*6,1)\n",
    "\n",
    "rnn_f1 = nn.GRU(1, 16,num_layers=1,dropout=0)\n",
    "rnn_f3 = nn.GRU(4, 32,num_layers=2,dropout=0)\n",
    "rnn_f4 = nn.GRU(1, 16,num_layers=1,dropout=0)\n",
    "embedLayer = nn.Embedding(24*6,16)\n",
    "mlp = nn.Sequential(\n",
    "            nn.Linear(16+32+16+16, 128),\n",
    "            nn.ReLU(),\n",
    "            nn.Linear(128, 1)\n",
    "        )\n",
    "net = Model_v1(rnn_f1,embedLayer, rnn_f3, rnn_f4, mlp)\n",
    "\n",
    "# Dataloader\n",
    "train_data = Mydataset(\"train\")\n",
    "val_data = Mydataset(\"val\")\n",
    "train_loader, val_loader=generate_dataloaders(train_data, val_data,batch_size=32)\n",
    "\n",
    "# confg\n",
    "my_confg={\"load_from_path\":None,\"save_to_path\":\"1_29/\",\"lr\":0.001,\"weight_decay\":0,\"num_epochs\":50}\n",
    "my_confg = Namespace(**my_confg)\n",
    "\n",
    "# Train\n",
    "train_model(net,train_loader, val_loader, my_confg)"
   ]
  }
 ],
 "metadata": {
  "language_info": {
   "name": "python"
  },
  "orig_nbformat": 4
 },
 "nbformat": 4,
 "nbformat_minor": 2
}
