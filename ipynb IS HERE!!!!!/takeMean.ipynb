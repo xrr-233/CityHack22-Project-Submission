{
 "cells": [
  {
   "cell_type": "code",
   "execution_count": 1,
   "metadata": {},
   "outputs": [],
   "source": [
    "import pandas as pd"
   ]
  },
  {
   "cell_type": "code",
   "execution_count": 2,
   "metadata": {},
   "outputs": [],
   "source": [
    "df=pd.read_csv(\"final.csv\")"
   ]
  },
  {
   "cell_type": "code",
   "execution_count": 3,
   "metadata": {},
   "outputs": [
    {
     "data": {
      "text/html": [
       "<div>\n",
       "<style scoped>\n",
       "    .dataframe tbody tr th:only-of-type {\n",
       "        vertical-align: middle;\n",
       "    }\n",
       "\n",
       "    .dataframe tbody tr th {\n",
       "        vertical-align: top;\n",
       "    }\n",
       "\n",
       "    .dataframe thead th {\n",
       "        text-align: right;\n",
       "    }\n",
       "</style>\n",
       "<table border=\"1\" class=\"dataframe\">\n",
       "  <thead>\n",
       "    <tr style=\"text-align: right;\">\n",
       "      <th></th>\n",
       "      <th>DateTime</th>\n",
       "      <th>X1</th>\n",
       "      <th>X2</th>\n",
       "      <th>X3</th>\n",
       "      <th>X4</th>\n",
       "      <th>Y</th>\n",
       "    </tr>\n",
       "  </thead>\n",
       "  <tbody>\n",
       "    <tr>\n",
       "      <th>0</th>\n",
       "      <td>2022-10-19 04:40:00</td>\n",
       "      <td>5.943333</td>\n",
       "      <td>17.72</td>\n",
       "      <td>0.1001</td>\n",
       "      <td>0.1690</td>\n",
       "      <td>388969.56675</td>\n",
       "    </tr>\n",
       "    <tr>\n",
       "      <th>1</th>\n",
       "      <td>2022-10-19 04:50:00</td>\n",
       "      <td>5.990000</td>\n",
       "      <td>17.68</td>\n",
       "      <td>0.1092</td>\n",
       "      <td>0.1872</td>\n",
       "      <td>405403.87750</td>\n",
       "    </tr>\n",
       "    <tr>\n",
       "      <th>2</th>\n",
       "      <td>2022-10-19 05:00:00</td>\n",
       "      <td>5.993333</td>\n",
       "      <td>17.66</td>\n",
       "      <td>0.1235</td>\n",
       "      <td>0.1014</td>\n",
       "      <td>411519.33750</td>\n",
       "    </tr>\n",
       "    <tr>\n",
       "      <th>3</th>\n",
       "      <td>2022-10-19 05:10:00</td>\n",
       "      <td>6.000000</td>\n",
       "      <td>17.68</td>\n",
       "      <td>0.0949</td>\n",
       "      <td>0.1690</td>\n",
       "      <td>413938.68550</td>\n",
       "    </tr>\n",
       "    <tr>\n",
       "      <th>4</th>\n",
       "      <td>2022-10-19 05:20:00</td>\n",
       "      <td>6.013333</td>\n",
       "      <td>17.68</td>\n",
       "      <td>0.1326</td>\n",
       "      <td>0.1300</td>\n",
       "      <td>422548.93750</td>\n",
       "    </tr>\n",
       "  </tbody>\n",
       "</table>\n",
       "</div>"
      ],
      "text/plain": [
       "              DateTime        X1     X2      X3      X4             Y\n",
       "0  2022-10-19 04:40:00  5.943333  17.72  0.1001  0.1690  388969.56675\n",
       "1  2022-10-19 04:50:00  5.990000  17.68  0.1092  0.1872  405403.87750\n",
       "2  2022-10-19 05:00:00  5.993333  17.66  0.1235  0.1014  411519.33750\n",
       "3  2022-10-19 05:10:00  6.000000  17.68  0.0949  0.1690  413938.68550\n",
       "4  2022-10-19 05:20:00  6.013333  17.68  0.1326  0.1300  422548.93750"
      ]
     },
     "execution_count": 3,
     "metadata": {},
     "output_type": "execute_result"
    }
   ],
   "source": [
    "df.head()"
   ]
  },
  {
   "cell_type": "code",
   "execution_count": 5,
   "metadata": {},
   "outputs": [],
   "source": [
    "df_res=df[2:].copy().reset_index(drop=True)"
   ]
  },
  {
   "cell_type": "code",
   "execution_count": 6,
   "metadata": {},
   "outputs": [
    {
     "data": {
      "text/html": [
       "<div>\n",
       "<style scoped>\n",
       "    .dataframe tbody tr th:only-of-type {\n",
       "        vertical-align: middle;\n",
       "    }\n",
       "\n",
       "    .dataframe tbody tr th {\n",
       "        vertical-align: top;\n",
       "    }\n",
       "\n",
       "    .dataframe thead th {\n",
       "        text-align: right;\n",
       "    }\n",
       "</style>\n",
       "<table border=\"1\" class=\"dataframe\">\n",
       "  <thead>\n",
       "    <tr style=\"text-align: right;\">\n",
       "      <th></th>\n",
       "      <th>DateTime</th>\n",
       "      <th>X1</th>\n",
       "      <th>X2</th>\n",
       "      <th>X3</th>\n",
       "      <th>X4</th>\n",
       "      <th>Y</th>\n",
       "    </tr>\n",
       "  </thead>\n",
       "  <tbody>\n",
       "    <tr>\n",
       "      <th>0</th>\n",
       "      <td>2022-10-19 05:00:00</td>\n",
       "      <td>5.993333</td>\n",
       "      <td>17.66</td>\n",
       "      <td>0.1235</td>\n",
       "      <td>0.1014</td>\n",
       "      <td>411519.33750</td>\n",
       "    </tr>\n",
       "    <tr>\n",
       "      <th>1</th>\n",
       "      <td>2022-10-19 05:10:00</td>\n",
       "      <td>6.000000</td>\n",
       "      <td>17.68</td>\n",
       "      <td>0.0949</td>\n",
       "      <td>0.1690</td>\n",
       "      <td>413938.68550</td>\n",
       "    </tr>\n",
       "    <tr>\n",
       "      <th>2</th>\n",
       "      <td>2022-10-19 05:20:00</td>\n",
       "      <td>6.013333</td>\n",
       "      <td>17.68</td>\n",
       "      <td>0.1326</td>\n",
       "      <td>0.1300</td>\n",
       "      <td>422548.93750</td>\n",
       "    </tr>\n",
       "    <tr>\n",
       "      <th>3</th>\n",
       "      <td>2022-10-19 05:30:00</td>\n",
       "      <td>6.050000</td>\n",
       "      <td>17.70</td>\n",
       "      <td>0.1092</td>\n",
       "      <td>0.1209</td>\n",
       "      <td>448022.96875</td>\n",
       "    </tr>\n",
       "    <tr>\n",
       "      <th>4</th>\n",
       "      <td>2022-10-19 05:40:00</td>\n",
       "      <td>6.130000</td>\n",
       "      <td>17.72</td>\n",
       "      <td>0.1001</td>\n",
       "      <td>0.1547</td>\n",
       "      <td>507134.78750</td>\n",
       "    </tr>\n",
       "  </tbody>\n",
       "</table>\n",
       "</div>"
      ],
      "text/plain": [
       "              DateTime        X1     X2      X3      X4             Y\n",
       "0  2022-10-19 05:00:00  5.993333  17.66  0.1235  0.1014  411519.33750\n",
       "1  2022-10-19 05:10:00  6.000000  17.68  0.0949  0.1690  413938.68550\n",
       "2  2022-10-19 05:20:00  6.013333  17.68  0.1326  0.1300  422548.93750\n",
       "3  2022-10-19 05:30:00  6.050000  17.70  0.1092  0.1209  448022.96875\n",
       "4  2022-10-19 05:40:00  6.130000  17.72  0.1001  0.1547  507134.78750"
      ]
     },
     "execution_count": 6,
     "metadata": {},
     "output_type": "execute_result"
    }
   ],
   "source": [
    "df_res.head()"
   ]
  },
  {
   "cell_type": "code",
   "execution_count": 9,
   "metadata": {},
   "outputs": [],
   "source": [
    "df_res['DateTime']=df_res['DateTime'].apply(lambda x:x[:-6])"
   ]
  },
  {
   "cell_type": "code",
   "execution_count": 13,
   "metadata": {},
   "outputs": [],
   "source": [
    "cols=df.columns"
   ]
  },
  {
   "cell_type": "code",
   "execution_count": 14,
   "metadata": {},
   "outputs": [
    {
     "data": {
      "text/plain": [
       "Index(['DateTime', 'X1', 'X2', 'X3', 'X4', 'Y'], dtype='object')"
      ]
     },
     "execution_count": 14,
     "metadata": {},
     "output_type": "execute_result"
    }
   ],
   "source": [
    "cols"
   ]
  },
  {
   "cell_type": "code",
   "execution_count": 16,
   "metadata": {},
   "outputs": [],
   "source": [
    "df_res.drop(columns=['X1', 'X2', 'X3', 'X4'],inplace=True)"
   ]
  },
  {
   "cell_type": "code",
   "execution_count": 17,
   "metadata": {},
   "outputs": [
    {
     "data": {
      "text/html": [
       "<div>\n",
       "<style scoped>\n",
       "    .dataframe tbody tr th:only-of-type {\n",
       "        vertical-align: middle;\n",
       "    }\n",
       "\n",
       "    .dataframe tbody tr th {\n",
       "        vertical-align: top;\n",
       "    }\n",
       "\n",
       "    .dataframe thead th {\n",
       "        text-align: right;\n",
       "    }\n",
       "</style>\n",
       "<table border=\"1\" class=\"dataframe\">\n",
       "  <thead>\n",
       "    <tr style=\"text-align: right;\">\n",
       "      <th></th>\n",
       "      <th>DateTime</th>\n",
       "      <th>Y</th>\n",
       "    </tr>\n",
       "  </thead>\n",
       "  <tbody>\n",
       "    <tr>\n",
       "      <th>0</th>\n",
       "      <td>2022-10-19 05</td>\n",
       "      <td>411519.33750</td>\n",
       "    </tr>\n",
       "    <tr>\n",
       "      <th>1</th>\n",
       "      <td>2022-10-19 05</td>\n",
       "      <td>413938.68550</td>\n",
       "    </tr>\n",
       "    <tr>\n",
       "      <th>2</th>\n",
       "      <td>2022-10-19 05</td>\n",
       "      <td>422548.93750</td>\n",
       "    </tr>\n",
       "    <tr>\n",
       "      <th>3</th>\n",
       "      <td>2022-10-19 05</td>\n",
       "      <td>448022.96875</td>\n",
       "    </tr>\n",
       "    <tr>\n",
       "      <th>4</th>\n",
       "      <td>2022-10-19 05</td>\n",
       "      <td>507134.78750</td>\n",
       "    </tr>\n",
       "    <tr>\n",
       "      <th>...</th>\n",
       "      <td>...</td>\n",
       "      <td>...</td>\n",
       "    </tr>\n",
       "    <tr>\n",
       "      <th>10477</th>\n",
       "      <td>2022-12-30 23</td>\n",
       "      <td>311982.81625</td>\n",
       "    </tr>\n",
       "    <tr>\n",
       "      <th>10478</th>\n",
       "      <td>2022-12-30 23</td>\n",
       "      <td>306343.63350</td>\n",
       "    </tr>\n",
       "    <tr>\n",
       "      <th>10479</th>\n",
       "      <td>2022-12-30 23</td>\n",
       "      <td>309786.40425</td>\n",
       "    </tr>\n",
       "    <tr>\n",
       "      <th>10480</th>\n",
       "      <td>2022-12-30 23</td>\n",
       "      <td>305856.32800</td>\n",
       "    </tr>\n",
       "    <tr>\n",
       "      <th>10481</th>\n",
       "      <td>2022-12-30 23</td>\n",
       "      <td>300624.07300</td>\n",
       "    </tr>\n",
       "  </tbody>\n",
       "</table>\n",
       "<p>10482 rows × 2 columns</p>\n",
       "</div>"
      ],
      "text/plain": [
       "            DateTime             Y\n",
       "0      2022-10-19 05  411519.33750\n",
       "1      2022-10-19 05  413938.68550\n",
       "2      2022-10-19 05  422548.93750\n",
       "3      2022-10-19 05  448022.96875\n",
       "4      2022-10-19 05  507134.78750\n",
       "...              ...           ...\n",
       "10477  2022-12-30 23  311982.81625\n",
       "10478  2022-12-30 23  306343.63350\n",
       "10479  2022-12-30 23  309786.40425\n",
       "10480  2022-12-30 23  305856.32800\n",
       "10481  2022-12-30 23  300624.07300\n",
       "\n",
       "[10482 rows x 2 columns]"
      ]
     },
     "execution_count": 17,
     "metadata": {},
     "output_type": "execute_result"
    }
   ],
   "source": [
    "df_res"
   ]
  },
  {
   "cell_type": "code",
   "execution_count": 21,
   "metadata": {},
   "outputs": [],
   "source": [
    "res=df_res.groupby('DateTime').mean()"
   ]
  },
  {
   "cell_type": "code",
   "execution_count": 22,
   "metadata": {},
   "outputs": [
    {
     "data": {
      "text/html": [
       "<div>\n",
       "<style scoped>\n",
       "    .dataframe tbody tr th:only-of-type {\n",
       "        vertical-align: middle;\n",
       "    }\n",
       "\n",
       "    .dataframe tbody tr th {\n",
       "        vertical-align: top;\n",
       "    }\n",
       "\n",
       "    .dataframe thead th {\n",
       "        text-align: right;\n",
       "    }\n",
       "</style>\n",
       "<table border=\"1\" class=\"dataframe\">\n",
       "  <thead>\n",
       "    <tr style=\"text-align: right;\">\n",
       "      <th></th>\n",
       "      <th>Y</th>\n",
       "    </tr>\n",
       "    <tr>\n",
       "      <th>DateTime</th>\n",
       "      <th></th>\n",
       "    </tr>\n",
       "  </thead>\n",
       "  <tbody>\n",
       "    <tr>\n",
       "      <th>2022-10-19 05</th>\n",
       "      <td>454734.646042</td>\n",
       "    </tr>\n",
       "    <tr>\n",
       "      <th>2022-10-19 06</th>\n",
       "      <td>476404.672042</td>\n",
       "    </tr>\n",
       "    <tr>\n",
       "      <th>2022-10-19 07</th>\n",
       "      <td>455067.374458</td>\n",
       "    </tr>\n",
       "    <tr>\n",
       "      <th>2022-10-19 08</th>\n",
       "      <td>660535.617917</td>\n",
       "    </tr>\n",
       "    <tr>\n",
       "      <th>2022-10-19 09</th>\n",
       "      <td>616099.358250</td>\n",
       "    </tr>\n",
       "    <tr>\n",
       "      <th>...</th>\n",
       "      <td>...</td>\n",
       "    </tr>\n",
       "    <tr>\n",
       "      <th>2022-12-30 19</th>\n",
       "      <td>289853.275917</td>\n",
       "    </tr>\n",
       "    <tr>\n",
       "      <th>2022-12-30 20</th>\n",
       "      <td>297921.469750</td>\n",
       "    </tr>\n",
       "    <tr>\n",
       "      <th>2022-12-30 21</th>\n",
       "      <td>319264.385167</td>\n",
       "    </tr>\n",
       "    <tr>\n",
       "      <th>2022-12-30 22</th>\n",
       "      <td>318267.452042</td>\n",
       "    </tr>\n",
       "    <tr>\n",
       "      <th>2022-12-30 23</th>\n",
       "      <td>307089.362667</td>\n",
       "    </tr>\n",
       "  </tbody>\n",
       "</table>\n",
       "<p>1747 rows × 1 columns</p>\n",
       "</div>"
      ],
      "text/plain": [
       "                           Y\n",
       "DateTime                    \n",
       "2022-10-19 05  454734.646042\n",
       "2022-10-19 06  476404.672042\n",
       "2022-10-19 07  455067.374458\n",
       "2022-10-19 08  660535.617917\n",
       "2022-10-19 09  616099.358250\n",
       "...                      ...\n",
       "2022-12-30 19  289853.275917\n",
       "2022-12-30 20  297921.469750\n",
       "2022-12-30 21  319264.385167\n",
       "2022-12-30 22  318267.452042\n",
       "2022-12-30 23  307089.362667\n",
       "\n",
       "[1747 rows x 1 columns]"
      ]
     },
     "execution_count": 22,
     "metadata": {},
     "output_type": "execute_result"
    }
   ],
   "source": [
    "res"
   ]
  },
  {
   "cell_type": "code",
   "execution_count": 23,
   "metadata": {},
   "outputs": [],
   "source": [
    "res.to_csv(\"final_hourly.csv\")"
   ]
  },
  {
   "cell_type": "code",
   "execution_count": null,
   "metadata": {},
   "outputs": [],
   "source": []
  }
 ],
 "metadata": {
  "interpreter": {
   "hash": "eb3ee2cb987f0791d59217aac9c93edb0025d3eec1e91adab0e3ff51219fcd98"
  },
  "kernelspec": {
   "display_name": "Python 3.8.11 64-bit ('areix': conda)",
   "language": "python",
   "name": "python3"
  },
  "language_info": {
   "codemirror_mode": {
    "name": "ipython",
    "version": 3
   },
   "file_extension": ".py",
   "mimetype": "text/x-python",
   "name": "python",
   "nbconvert_exporter": "python",
   "pygments_lexer": "ipython3",
   "version": "3.8.11"
  },
  "orig_nbformat": 4
 },
 "nbformat": 4,
 "nbformat_minor": 2
}
