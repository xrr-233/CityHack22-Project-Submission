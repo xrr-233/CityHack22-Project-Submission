{
 "cells": [
  {
   "cell_type": "code",
   "execution_count": null,
   "metadata": {},
   "outputs": [],
   "source": [
    "from torch import nn\n",
    "from model import Model_v1, pred,Mydataset,generate_dataloaders\n",
    "import numpy as np\n",
    "from sklearn.metrics import mean_squared_error\n",
    "import torch\n",
    "from sklearn.metrics import r2_score\n",
    "\n",
    "rnn_f1 = nn.GRU(1, 16,num_layers=1,dropout=0)\n",
    "rnn_f3 = nn.GRU(4, 32,num_layers=2,dropout=0)\n",
    "rnn_f4 = nn.GRU(1, 16,num_layers=1,dropout=0)\n",
    "embedLayer = nn.Embedding(24*6,16)\n",
    "mlp = nn.Sequential(\n",
    "            nn.Linear(16+32+16+16, 128),\n",
    "            nn.ReLU(),\n",
    "            nn.Linear(128, 1)\n",
    "        )\n",
    "net = Model_v1(rnn_f1,embedLayer, rnn_f3, rnn_f4, mlp)\n",
    "net.load_state_dict(torch.load(\"1_29/01_30 00_02.pt\"))\n",
    "\n",
    "train_data = Mydataset(\"train\")\n",
    "val_data = Mydataset(\"val\")\n",
    "train_loader, val_loader=generate_dataloaders(train_data, val_data,batch_size=32,isShuffle=False)\n",
    "\n",
    "train_pred = np.exp(pred(net, train_loader))\n",
    "train_actl = np.exp(train_data.y)\n",
    "print(np.sqrt(mean_squared_error(train_actl, train_pred)))\n",
    "print(r2_score(train_actl, train_pred))\n",
    "\n",
    "val_pred = np.exp(pred(net, val_loader))\n",
    "val_actl = np.exp(val_data.y)\n",
    "print(np.sqrt(mean_squared_error(val_actl, val_pred)))\n",
    "print(r2_score(val_actl, val_pred))\n"
   ]
  }
 ],
 "metadata": {
  "language_info": {
   "name": "python"
  },
  "orig_nbformat": 4
 },
 "nbformat": 4,
 "nbformat_minor": 2
}
