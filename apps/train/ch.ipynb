{
 "cells": [
  {
   "cell_type": "code",
   "execution_count": 9,
   "metadata": {},
   "outputs": [],
   "source": [
    "from autogluon.tabular import TabularDataset, TabularPredictor\n",
    "import numpy as np\n",
    "import pandas as pd\n",
    "from sklearn.metrics import r2_score\n",
    "from sklearn.model_selection import train_test_split\n",
    "from sklearn.metrics import confusion_matrix,accuracy_score,recall_score,f1_score,classification_report"
   ]
  },
  {
   "cell_type": "code",
   "execution_count": 13,
   "metadata": {},
   "outputs": [
    {
     "name": "stderr",
     "output_type": "stream",
     "text": [
      "Loaded data from: /Users/huangjianming/Downloads/CH22_Demand_XY_Train.csv | Columns = 6 / 6 | Rows = 41932 -> 41932\n"
     ]
    },
    {
     "name": "stdout",
     "output_type": "stream",
     "text": [
      "(4194, 6)\n",
      "(37738, 6)\n",
      "(4194,)\n"
     ]
    }
   ],
   "source": [
    "df=TabularDataset('/Users/huangjianming/Downloads/CH22_Demand_XY_Train.csv')\n",
    "\n",
    "X=df\n",
    "y=np.log(df['Y'])\n",
    "train_x,test_x,train_y,test_y=train_test_split(X,y,test_size=0.1,random_state=0)\n",
    "print(test_x.shape)\n",
    "print(train_x.shape)\n",
    "print(test_y.shape)"
   ]
  },
  {
   "cell_type": "code",
   "execution_count": 11,
   "metadata": {
    "scrolled": true
   },
   "outputs": [
    {
     "name": "stderr",
     "output_type": "stream",
     "text": [
      "No path specified. Models will be saved in: \"AutogluonModels/ag-20220129_080708/\"\n",
      "Beginning AutoGluon training ...\n",
      "AutoGluon will save models to \"AutogluonModels/ag-20220129_080708/\"\n",
      "AutoGluon Version:  0.3.1\n",
      "Train Data Rows:    37738\n",
      "Train Data Columns: 4\n",
      "Preprocessing data ...\n",
      "AutoGluon infers your prediction problem is: 'regression' (because dtype of label-column == float and many unique label-values observed).\n",
      "\tLabel info (max, min, mean, stddev): (829691.71704, 178443.8354, 504088.49489, 122024.59513)\n",
      "\tIf 'regression' is not the correct problem_type, please manually specify the problem_type argument in fit() (You may specify problem_type as one of: ['binary', 'multiclass', 'regression'])\n",
      "Using Feature Generators to preprocess the data ...\n",
      "Fitting AutoMLPipelineFeatureGenerator...\n",
      "\tAvailable Memory:                    5007.67 MB\n",
      "\tTrain Data (Original)  Memory Usage: 1.21 MB (0.0% of available memory)\n",
      "\tInferring data type of each feature based on column values. Set feature_metadata_in to manually specify special dtypes of the features.\n",
      "\tStage 1 Generators:\n",
      "\t\tFitting AsTypeFeatureGenerator...\n",
      "\tStage 2 Generators:\n",
      "\t\tFitting FillNaFeatureGenerator...\n",
      "\tStage 3 Generators:\n",
      "\t\tFitting IdentityFeatureGenerator...\n",
      "\tStage 4 Generators:\n",
      "\t\tFitting DropUniqueFeatureGenerator...\n",
      "\tTypes of features in original data (raw dtype, special dtypes):\n",
      "\t\t('float', []) : 4 | ['X1', 'X2', 'X3', 'X4']\n",
      "\tTypes of features in processed data (raw dtype, special dtypes):\n",
      "\t\t('float', []) : 4 | ['X1', 'X2', 'X3', 'X4']\n",
      "\t0.1s = Fit runtime\n",
      "\t4 features in original data used to generate 4 features in processed data.\n",
      "\tTrain Data (Processed) Memory Usage: 1.21 MB (0.0% of available memory)\n",
      "Data preprocessing and feature engineering runtime = 0.09s ...\n",
      "AutoGluon will gauge predictive performance using evaluation metric: 'root_mean_squared_error'\n",
      "\tTo change this, specify the eval_metric argument of fit()\n",
      "Automatically generating train/validation split with holdout_frac=0.06624622396523398, Train Rows: 35238, Val Rows: 2500\n",
      "Fitting 11 L1 models ...\n",
      "Fitting model: KNeighborsUnif ...\n",
      "\t-98644.5503\t = Validation score   (root_mean_squared_error)\n",
      "\t0.03s\t = Training   runtime\n",
      "\t0.01s\t = Validation runtime\n",
      "Fitting model: KNeighborsDist ...\n",
      "\t-98378.5723\t = Validation score   (root_mean_squared_error)\n",
      "\t0.03s\t = Training   runtime\n",
      "\t0.01s\t = Validation runtime\n",
      "Fitting model: LightGBMXT ...\n",
      "/Users/huangjianming/opt/anaconda3/lib/python3.8/site-packages/lightgbm/engine.py:239: UserWarning: 'verbose_eval' argument is deprecated and will be removed in a future release of LightGBM. Pass 'log_evaluation()' callback via 'callbacks' argument instead.\n",
      "  _log_warning(\"'verbose_eval' argument is deprecated and will be removed in a future release of LightGBM. \"\n"
     ]
    },
    {
     "name": "stdout",
     "output_type": "stream",
     "text": [
      "[1000]\ttrain_set's rmse: 94234.1\tvalid_set's rmse: 95821.8\n",
      "[2000]\ttrain_set's rmse: 91602.2\tvalid_set's rmse: 94369\n",
      "[3000]\ttrain_set's rmse: 89767.1\tvalid_set's rmse: 93511.3\n",
      "[4000]\ttrain_set's rmse: 88315.3\tvalid_set's rmse: 92884.4\n",
      "[5000]\ttrain_set's rmse: 87030.7\tvalid_set's rmse: 92424.1\n",
      "[6000]\ttrain_set's rmse: 85959.8\tvalid_set's rmse: 92181.4\n",
      "[7000]\ttrain_set's rmse: 84992.9\tvalid_set's rmse: 91887.1\n",
      "[8000]\ttrain_set's rmse: 84129.5\tvalid_set's rmse: 91651.6\n",
      "[9000]\ttrain_set's rmse: 83350.4\tvalid_set's rmse: 91382.7\n",
      "[10000]\ttrain_set's rmse: 82610\tvalid_set's rmse: 91253.1\n"
     ]
    },
    {
     "name": "stderr",
     "output_type": "stream",
     "text": [
      "\t-91252.3627\t = Validation score   (root_mean_squared_error)\n",
      "\t10.57s\t = Training   runtime\n",
      "\t0.53s\t = Validation runtime\n",
      "Fitting model: LightGBM ...\n",
      "/Users/huangjianming/opt/anaconda3/lib/python3.8/site-packages/lightgbm/engine.py:239: UserWarning: 'verbose_eval' argument is deprecated and will be removed in a future release of LightGBM. Pass 'log_evaluation()' callback via 'callbacks' argument instead.\n",
      "  _log_warning(\"'verbose_eval' argument is deprecated and will be removed in a future release of LightGBM. \"\n"
     ]
    },
    {
     "name": "stdout",
     "output_type": "stream",
     "text": [
      "[1000]\ttrain_set's rmse: 77430.4\tvalid_set's rmse: 88952\n"
     ]
    },
    {
     "name": "stderr",
     "output_type": "stream",
     "text": [
      "\t-88067.6654\t = Validation score   (root_mean_squared_error)\n",
      "\t1.8s\t = Training   runtime\n",
      "\t0.04s\t = Validation runtime\n",
      "Fitting model: RandomForestMSE ...\n",
      "\t-88395.3751\t = Validation score   (root_mean_squared_error)\n",
      "\t4.52s\t = Training   runtime\n",
      "\t0.07s\t = Validation runtime\n",
      "Fitting model: CatBoost ...\n",
      "\t-90873.2716\t = Validation score   (root_mean_squared_error)\n",
      "\t6.6s\t = Training   runtime\n",
      "\t0.0s\t = Validation runtime\n",
      "Fitting model: ExtraTreesMSE ...\n",
      "\t-87058.5592\t = Validation score   (root_mean_squared_error)\n",
      "\t1.72s\t = Training   runtime\n",
      "\t0.07s\t = Validation runtime\n",
      "Fitting model: NeuralNetFastAI ...\n",
      "\t-100283.3851\t = Validation score   (root_mean_squared_error)\n",
      "\t29.28s\t = Training   runtime\n",
      "\t0.03s\t = Validation runtime\n",
      "Fitting model: XGBoost ...\n",
      "\tWarning: Exception caused XGBoost to fail during training... Skipping this model.\n",
      "\t\tdlsym(0x7feea43ff2e0, XGDMatrixCreateFromCSR): symbol not found\n",
      "Detailed Traceback:\n",
      "Traceback (most recent call last):\n",
      "  File \"/Users/huangjianming/opt/anaconda3/lib/python3.8/site-packages/autogluon/tabular/trainer/abstract_trainer.py\", line 962, in _train_and_save\n",
      "    model = self._train_single(X, y, model, X_val, y_val, **model_fit_kwargs)\n",
      "  File \"/Users/huangjianming/opt/anaconda3/lib/python3.8/site-packages/autogluon/tabular/trainer/abstract_trainer.py\", line 934, in _train_single\n",
      "    model = model.fit(X=X, y=y, X_val=X_val, y_val=y_val, **model_fit_kwargs)\n",
      "  File \"/Users/huangjianming/opt/anaconda3/lib/python3.8/site-packages/autogluon/core/models/abstract/abstract_model.py\", line 522, in fit\n",
      "    out = self._fit(**kwargs)\n",
      "  File \"/Users/huangjianming/opt/anaconda3/lib/python3.8/site-packages/autogluon/tabular/models/xgboost/xgboost_model.py\", line 130, in _fit\n",
      "    self.model.fit(\n",
      "  File \"/Users/huangjianming/opt/anaconda3/lib/python3.8/site-packages/xgboost/core.py\", line 436, in inner_f\n",
      "    return f(**kwargs)\n",
      "  File \"/Users/huangjianming/opt/anaconda3/lib/python3.8/site-packages/xgboost/sklearn.py\", line 711, in fit\n",
      "    train_dmatrix, evals = _wrap_evaluation_matrices(\n",
      "  File \"/Users/huangjianming/opt/anaconda3/lib/python3.8/site-packages/xgboost/sklearn.py\", line 236, in _wrap_evaluation_matrices\n",
      "    train_dmatrix = create_dmatrix(\n",
      "  File \"/Users/huangjianming/opt/anaconda3/lib/python3.8/site-packages/xgboost/sklearn.py\", line 725, in <lambda>\n",
      "    create_dmatrix=lambda **kwargs: DMatrix(nthread=self.n_jobs, **kwargs),\n",
      "  File \"/Users/huangjianming/opt/anaconda3/lib/python3.8/site-packages/xgboost/core.py\", line 436, in inner_f\n",
      "    return f(**kwargs)\n",
      "  File \"/Users/huangjianming/opt/anaconda3/lib/python3.8/site-packages/xgboost/core.py\", line 541, in __init__\n",
      "    handle, feature_names, feature_types = dispatch_data_backend(\n",
      "  File \"/Users/huangjianming/opt/anaconda3/lib/python3.8/site-packages/xgboost/data.py\", line 558, in dispatch_data_backend\n",
      "    return _from_scipy_csr(data, missing, threads, feature_names, feature_types)\n",
      "  File \"/Users/huangjianming/opt/anaconda3/lib/python3.8/site-packages/xgboost/data.py\", line 56, in _from_scipy_csr\n",
      "    _LIB.XGDMatrixCreateFromCSR(\n",
      "  File \"/Users/huangjianming/opt/anaconda3/lib/python3.8/ctypes/__init__.py\", line 394, in __getattr__\n",
      "    func = self.__getitem__(name)\n",
      "  File \"/Users/huangjianming/opt/anaconda3/lib/python3.8/ctypes/__init__.py\", line 399, in __getitem__\n",
      "    func = self._FuncPtr((name_or_ordinal, self))\n",
      "AttributeError: dlsym(0x7feea43ff2e0, XGDMatrixCreateFromCSR): symbol not found\n",
      "Fitting model: NeuralNetMXNet ...\n",
      "\t-100225.914\t = Validation score   (root_mean_squared_error)\n",
      "\t72.07s\t = Training   runtime\n",
      "\t0.12s\t = Validation runtime\n",
      "Fitting model: LightGBMLarge ...\n",
      "/Users/huangjianming/opt/anaconda3/lib/python3.8/site-packages/lightgbm/engine.py:239: UserWarning: 'verbose_eval' argument is deprecated and will be removed in a future release of LightGBM. Pass 'log_evaluation()' callback via 'callbacks' argument instead.\n",
      "  _log_warning(\"'verbose_eval' argument is deprecated and will be removed in a future release of LightGBM. \"\n"
     ]
    },
    {
     "name": "stdout",
     "output_type": "stream",
     "text": [
      "[1000]\ttrain_set's rmse: 59075.3\tvalid_set's rmse: 88973.4\n"
     ]
    },
    {
     "name": "stderr",
     "output_type": "stream",
     "text": [
      "\t-88918.5013\t = Validation score   (root_mean_squared_error)\n",
      "\t2.99s\t = Training   runtime\n",
      "\t0.03s\t = Validation runtime\n",
      "Fitting model: WeightedEnsemble_L2 ...\n",
      "\t-86177.5701\t = Validation score   (root_mean_squared_error)\n",
      "\t0.25s\t = Training   runtime\n",
      "\t0.0s\t = Validation runtime\n",
      "AutoGluon training complete, total runtime = 139.82s ...\n",
      "TabularPredictor saved. To load, use: predictor = TabularPredictor.load(\"AutogluonModels/ag-20220129_080708/\")\n"
     ]
    }
   ],
   "source": [
    "predictor = TabularPredictor(label='Y').fit(train_data=train_x)"
   ]
  },
  {
   "cell_type": "code",
   "execution_count": 18,
   "metadata": {},
   "outputs": [
    {
     "name": "stderr",
     "output_type": "stream",
     "text": [
      "Loaded data from: /Users/huangjianming/Downloads/CH22_Demand_XY_Train.csv | Columns = 6 / 6 | Rows = 41932 -> 41932\n"
     ]
    }
   ],
   "source": []
  },
  {
   "cell_type": "code",
   "execution_count": null,
   "metadata": {},
   "outputs": [],
   "source": []
  }
 ],
 "metadata": {
  "kernelspec": {
   "display_name": "Python 3",
   "language": "python",
   "name": "python3"
  },
  "language_info": {
   "codemirror_mode": {
    "name": "ipython",
    "version": 3
   },
   "file_extension": ".py",
   "mimetype": "text/x-python",
   "name": "python",
   "nbconvert_exporter": "python",
   "pygments_lexer": "ipython3",
   "version": "3.8.8"
  }
 },
 "nbformat": 4,
 "nbformat_minor": 2
}
